{
 "cells": [
  {
   "cell_type": "markdown",
   "id": "d2717efb-eb6c-4eb1-a455-54211893d241",
   "metadata": {},
   "source": [
    "#### Create an image frame for our captcha"
   ]
  },
  {
   "cell_type": "code",
   "execution_count": 1,
   "id": "0dccdee6-1a37-4a60-b01f-13ac00e8d3d1",
   "metadata": {
    "tags": []
   },
   "outputs": [
    {
     "ename": "ModuleNotFoundError",
     "evalue": "No module named 'cv2'",
     "output_type": "error",
     "traceback": [
      "\u001b[0;31m---------------------------------------------------------------------------\u001b[0m",
      "\u001b[0;31mModuleNotFoundError\u001b[0m                       Traceback (most recent call last)",
      "\u001b[0;32m/var/folders/_9/zm43_wd95h150krrh2s076hh0000gn/T/ipykernel_18119/3603758278.py\u001b[0m in \u001b[0;36m<module>\u001b[0;34m\u001b[0m\n\u001b[1;32m      2\u001b[0m \u001b[0;32mimport\u001b[0m \u001b[0mrandom\u001b[0m\u001b[0;34m\u001b[0m\u001b[0;34m\u001b[0m\u001b[0m\n\u001b[1;32m      3\u001b[0m \u001b[0;32mfrom\u001b[0m \u001b[0mPIL\u001b[0m \u001b[0;32mimport\u001b[0m \u001b[0mImageFont\u001b[0m\u001b[0;34m,\u001b[0m \u001b[0mImageDraw\u001b[0m\u001b[0;34m,\u001b[0m \u001b[0mImage\u001b[0m\u001b[0;34m\u001b[0m\u001b[0;34m\u001b[0m\u001b[0m\n\u001b[0;32m----> 4\u001b[0;31m \u001b[0;32mimport\u001b[0m \u001b[0mcv2\u001b[0m\u001b[0;34m\u001b[0m\u001b[0;34m\u001b[0m\u001b[0m\n\u001b[0m\u001b[1;32m      5\u001b[0m \u001b[0;32mimport\u001b[0m \u001b[0mglob\u001b[0m\u001b[0;34m\u001b[0m\u001b[0;34m\u001b[0m\u001b[0m\n\u001b[1;32m      6\u001b[0m \u001b[0;32mimport\u001b[0m \u001b[0mstring\u001b[0m\u001b[0;34m\u001b[0m\u001b[0;34m\u001b[0m\u001b[0m\n",
      "\u001b[0;31mModuleNotFoundError\u001b[0m: No module named 'cv2'"
     ]
    }
   ],
   "source": [
    "import numpy as np\n",
    "import random\n",
    "from PIL import ImageFont, ImageDraw, Image\n",
    "import cv2\n",
    "import glob\n",
    "import string\n",
    "from web3 import Web3\n",
    "from yaml import load\n",
    "import os\n",
    "import shutil\n",
    "from pathlib import Path"
   ]
  },
  {
   "cell_type": "code",
   "execution_count": 76,
   "id": "e935861f-cc98-4c45-b902-cc6fdb5f1254",
   "metadata": {
    "tags": []
   },
   "outputs": [],
   "source": [
    "YAML_PATH = \"/Users/ketanjog/Documents/startup/dev/zkaptcha-generator/user_config/\"\n",
    "COMMITMENTS_PATH = \"/Users/ketanjog/Documents/startup/dev/zkaptcha-generator/commitments/\"\n",
    "OUTPUT_FOLDER = '/Users/ketanjog/Documents/startup/dev/zkaptcha-generator/captchas'"
   ]
  },
  {
   "cell_type": "code",
   "execution_count": 40,
   "id": "36f06721-9f9f-403d-9e56-f3f2e0d6befa",
   "metadata": {
    "tags": []
   },
   "outputs": [],
   "source": [
    "class Hash:\n",
    "    def __init__(self, salt):\n",
    "        self.salt = salt\n",
    "        \n",
    "    def _hash(self, data):\n",
    "        commitment = Web3.soliditySha3(['bytes32','bytes32'], [bytes(data.encode()), bytes(self.salt.encode())]);\n",
    "        return commitment"
   ]
  },
  {
   "cell_type": "code",
   "execution_count": 20,
   "id": "7b6aa37e-04ff-4303-8f3c-ffaf01789dae",
   "metadata": {
    "tags": []
   },
   "outputs": [],
   "source": [
    "def generate_text(length):\n",
    "    text = ''.join(\n",
    "        random.choice(string.ascii_uppercase + string.digits + string.ascii_lowercase) \n",
    "                   for _ in range(length))\n",
    "    return text"
   ]
  },
  {
   "cell_type": "code",
   "execution_count": 27,
   "id": "3bfe97bf-fd98-407e-bccf-84d0b68249ef",
   "metadata": {
    "tags": []
   },
   "outputs": [],
   "source": [
    "def noise_image(img, thresh):\n",
    "    for i in range(img.shape[0]):\n",
    "        for j in range(img.shape[1]):\n",
    "            rdn = random.random()\n",
    "            if rdn < thresh:\n",
    "                img[i][j] = random.randint(0,123) #dark pixels\n",
    "            elif rdn > 1-thresh:\n",
    "                img[i][j] = random.randint(123,255) #bright pixels\n",
    "    return img"
   ]
  },
  {
   "cell_type": "code",
   "execution_count": 28,
   "id": "e0ada56e-7d5d-499d-8c1f-fc7c7159e6b1",
   "metadata": {},
   "outputs": [],
   "source": [
    "def blur_image(img, blur_kernel):\n",
    "    img = cv2.blur(img,blur_kernel)\n",
    "    return img"
   ]
  },
  {
   "cell_type": "code",
   "execution_count": 54,
   "id": "71fdc3a1-fa66-4ead-a6da-7301fe6d8714",
   "metadata": {
    "tags": []
   },
   "outputs": [],
   "source": [
    "def create_random_captcha(random_seed=42, savepath=\"bin\", comm: Hash = None):\n",
    "    # Set the random seed\n",
    "    random.seed(a=random_seed, version=2)\n",
    "    \n",
    "    # Initialize the hashing function\n",
    "    # comm = Hash(config['salt'])\n",
    "\n",
    "    # Set all parameters\n",
    "    size = random.randint(45,70)\n",
    "    font = '/Library/Fonts/Arial.ttf'\n",
    "    length = random.randint(4,8)\n",
    "    thresh = random.randint(1,5)/100\n",
    "    blur_kernel = (int(size/random.randint(5,10)),int(size/random.randint(5,10)))\n",
    "    # font = random.choice(fonts)\n",
    "\n",
    "    # Create the image object \n",
    "    img = np.zeros(((size*2)+5, length*size, 3), np.uint8)\n",
    "    img_pil = Image.fromarray(img+255)\n",
    "\n",
    "    # Create the font and draw functions\n",
    "    font = ImageFont.truetype(font, size)\n",
    "    draw = ImageDraw.Draw(img_pil)\n",
    "\n",
    "    # Get random text\n",
    "    text = generate_text(length)\n",
    "\n",
    "    # Draw in the text and a random line\n",
    "    draw.text((5, 10), text, font=font, \n",
    "              fill=(random.randint(0,255), random.randint(0,255), random.randint(0,255)))\n",
    "    draw.line([(random.choice(range(length*size)), random.choice(range((size*2)+5)))\n",
    "               ,(random.choice(range(length*size)), random.choice(range((size*2)+5)))]\n",
    "              , width=1, fill=(random.randint(0,255), random.randint(0,255), random.randint(0,255)))\n",
    "\n",
    "    # Add noise and blur\n",
    "    img = np.array(img_pil)\n",
    "    img = noise_image(img,thresh)\n",
    "    img = blur_image(img, blur_kernel)\n",
    "\n",
    "\n",
    "    # Save the image\n",
    "    folder = os.path.join(OUTPUT_FOLDER, savepath)\n",
    "    filename = os.path.join(COMMITMENTS_PATH, savepath + \".txt\")\n",
    "    isExist = os.path.exists(folder)\n",
    "    if not isExist:\n",
    "        os.makedirs(folder)\n",
    "    \n",
    "    cv2.imwrite(f\"{folder}/{text}.png\", img) #if you want to save the image\n",
    "    \n",
    "    # Save the hash\n",
    "    with open(filename, 'a+') as f:\n",
    "        commitment = comm._hash(text)\n",
    "        f.write(str(commitment))\n",
    "        f.write(\"\\n\")"
   ]
  },
  {
   "cell_type": "code",
   "execution_count": 74,
   "id": "a7cb9ab9-b592-4d36-9e6c-2d3d0cd2acc2",
   "metadata": {
    "tags": []
   },
   "outputs": [],
   "source": [
    "def refresh_user_captchas(config=\"demo_config.yaml\"):\n",
    "    # configure yaml data and hash function\n",
    "    stream = open(YAML_PATH + config, 'r')\n",
    "    config = yaml.safe_load(stream)\n",
    "    comm = Hash(config['salt'])\n",
    "    \n",
    "    # Delete old commitments\n",
    "    commitments = os.path.join(COMMITMENTS_PATH, config['username'] + \".txt\")\n",
    "    if os.path.exists(commitments):\n",
    "        os.remove(commitments)\n",
    "     # Delete old captchas\n",
    "    captcha_dir = Path(os.path.join(OUTPUT_FOLDER, config['username']))\n",
    "    if captcha_dir.exists() and captcha_dir.is_dir():\n",
    "        shutil.rmtree(captcha_dir)\n",
    "    \n",
    "    seed_base = random.randint(0,config['num_captchas'])\n",
    "    for i in range(config['num_captchas']):\n",
    "        seed = seed_base + i\n",
    "        create_random_captcha(seed, config['username'], comm)\n",
    "    "
   ]
  },
  {
   "cell_type": "code",
   "execution_count": 75,
   "id": "dac35ba1-6583-4d36-a9d9-01e78df51c77",
   "metadata": {
    "tags": []
   },
   "outputs": [],
   "source": [
    "refresh_user_captchas()"
   ]
  },
  {
   "cell_type": "code",
   "execution_count": 2,
   "id": "e09afece-9b47-40bf-9938-ac352d15fd6a",
   "metadata": {},
   "outputs": [
    {
     "name": "stdout",
     "output_type": "stream",
     "text": [
      "Collecting pymerkle\n",
      "  Downloading pymerkle-4.0.0.tar.gz (30 kB)\n",
      "Building wheels for collected packages: pymerkle\n",
      "  Building wheel for pymerkle (setup.py) ... \u001b[?25ldone\n",
      "\u001b[?25h  Created wheel for pymerkle: filename=pymerkle-4.0.0-py3-none-any.whl size=33600 sha256=e3f373719749266fdaa0cdbefe64461f11c0b2a042c9b9a5714d21f6222b5095\n",
      "  Stored in directory: /Users/ketanjog/Library/Caches/pip/wheels/7b/34/6f/3a95d767049a5960dcb42289daeb728ba2093ee565bd565892\n",
      "Successfully built pymerkle\n",
      "Installing collected packages: pymerkle\n",
      "Successfully installed pymerkle-4.0.0\n"
     ]
    }
   ],
   "source": [
    "!pip install pymerkle"
   ]
  },
  {
   "cell_type": "code",
   "execution_count": 3,
   "id": "1dd429fd",
   "metadata": {},
   "outputs": [],
   "source": [
    "from pymerkle import MerkleTree, verify_inclusion, verify_consistency"
   ]
  },
  {
   "cell_type": "code",
   "execution_count": 6,
   "id": "ffcdbbcb",
   "metadata": {},
   "outputs": [],
   "source": [
    "import random\n",
    "import string\n",
    "def generate_text(length):\n",
    "    text = ''.join(\n",
    "        random.choice(string.ascii_uppercase + string.digits + string.ascii_lowercase) \n",
    "                   for _ in range(length))\n",
    "    return text"
   ]
  },
  {
   "cell_type": "code",
   "execution_count": 28,
   "id": "233ff24d",
   "metadata": {},
   "outputs": [],
   "source": [
    "def generate_merkle_tree(tree_size=100, preimage_size=5):\n",
    "    preimages = [generate_text(preimage_size) for i in range(tree_size)]\n",
    "    byte_preimages = [bytes(preimage.encode()) for preimage in preimages]\n",
    "    tree = MerkleTree()\n",
    "\n",
    "    # Populate tree with some entries\n",
    "    for data in byte_preimages:\n",
    "        tree.append_entry(data)\n",
    "\n",
    "    merkleProofs = [tree.prove_inclusion(preimage).path for preimage in byte_preimages]\n",
    "    return merkleProofs, tree.root "
   ]
  },
  {
   "cell_type": "code",
   "execution_count": 29,
   "id": "66833ca1",
   "metadata": {},
   "outputs": [],
   "source": [
    "proofs, root = generate_merkle_tree()"
   ]
  },
  {
   "cell_type": "code",
   "execution_count": null,
   "id": "50556393",
   "metadata": {},
   "outputs": [],
   "source": []
  },
  {
   "cell_type": "code",
   "execution_count": null,
   "id": "fbbe7caa",
   "metadata": {},
   "outputs": [],
   "source": []
  }
 ],
 "metadata": {
  "kernelspec": {
   "display_name": "Python 3 (ipykernel)",
   "language": "python",
   "name": "python3"
  },
  "language_info": {
   "codemirror_mode": {
    "name": "ipython",
    "version": 3
   },
   "file_extension": ".py",
   "mimetype": "text/x-python",
   "name": "python",
   "nbconvert_exporter": "python",
   "pygments_lexer": "ipython3",
   "version": "3.9.7"
  }
 },
 "nbformat": 4,
 "nbformat_minor": 5
}
